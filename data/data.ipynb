{
 "cells": [
  {
   "cell_type": "markdown",
   "metadata": {},
   "source": [
    "# Data"
   ]
  },
  {
   "cell_type": "markdown",
   "metadata": {},
   "source": [
    "-----------------------------\n",
    "\n",
    "- **Auteur** : Tarik Boumaza\n",
    "- **Date** : 14 Mai 2021\n",
    "\n",
    "-----------------------------"
   ]
  },
  {
   "cell_type": "markdown",
   "metadata": {},
   "source": [
    "Imports"
   ]
  },
  {
   "cell_type": "code",
   "execution_count": 1,
   "metadata": {},
   "outputs": [],
   "source": [
    "import pandas as pd\n",
    "import numpy\n",
    "import matplotlib.pyplot as plt\n",
    "import scipy.stats"
   ]
  },
  {
   "cell_type": "markdown",
   "metadata": {},
   "source": [
    "### 1. Pollution"
   ]
  },
  {
   "cell_type": "markdown",
   "metadata": {},
   "source": [
    "#### 1.1 Mesures par les stations\n",
    "\n",
    "- *Source* : [***ATMO***](https://api.atmo-aura.fr/documentation)\n",
    "\n",
    "- Traitement :\n",
    "  - Chaque fichier `polluant.csv` contient toutes les mesures effectuées par les stations situées dans un rayon de 20km des urgences des HCL disponibles sur le site de l'ATMO\n",
    "  - Pour chacun des ces fichiers\n",
    "      - Suppression des colonnes inutiles\n",
    "      - Sauvegarde "
   ]
  },
  {
   "cell_type": "code",
   "execution_count": 2,
   "metadata": {},
   "outputs": [],
   "source": [
    "polluants = ['no','no2','o3','pm2,5','pm10']\n",
    "stations = ['FR20002','FR20003','FR20004','FR20008','FR20013','FR20016','FR20017','FR20019','FR20020','FR20026','FR20029','FR20030','FR20031','FR20033','FR20034','FR20036','FR20037','FR20038','FR20045','FR20046','FR20048','FR20049','FR20055','FR20060','FR20061','FR20062','FR20063','FR20064','FR20065','FR20066','FR20067','FR20069','FR20070','FR20071','FR20077','FR20204']\n",
    "colonnes_inutiles = ['mesure_id','validation','code_polluant','label_polluant','id_poll_ue','label_court_polluant','label_unite','label_court_unite','unite']\n",
    "df_pollution = []\n",
    "\n",
    "\n",
    "def str_to_float(string):\n",
    "    avant = \"\"\n",
    "    apres = \"\"\n",
    "    i = 0\n",
    "    while(i < len(string) and (string[i] != ',' and string[i] != '.')):\n",
    "        avant = avant + string[i]\n",
    "        i = i + 1\n",
    "    i = i + 1\n",
    "    while(i < len(string)):\n",
    "        apres = apres + string[i]\n",
    "        i = i + 1\n",
    "    return float(avant + '.' + apres)\n",
    "    \n",
    "    \n",
    "def read_file(polluant):\n",
    "    filename = 'pollution/mesures/init/' + polluant + '.csv'\n",
    "    temp_df = pd.read_csv(filename, sep=\";\")\n",
    "    for i in range(len(colonnes_inutiles)):\n",
    "        del temp_df[colonnes_inutiles[i]]\n",
    "    data = []\n",
    "    nom_ligne = []\n",
    "    for i in range(len(temp_df)):\n",
    "        nom_ligne.append(temp_df.iloc[i,0][0:10])\n",
    "        temp = []\n",
    "        temp.append(temp_df.iloc[i,2])\n",
    "        temp.append(str_to_float(str(temp_df.iloc[i,1])))\n",
    "        data.append(temp)\n",
    "    ar = numpy.array(data)\n",
    "    temp_df = pd.DataFrame(ar, index = nom_ligne, columns = ['id_station', 'valeur'])\n",
    "    return temp_df\n",
    "\n",
    "def save(step):\n",
    "    for i in range(len(polluants)):\n",
    "        filename  = str('pollution/mesures/' + step + '/' + str(polluants[i]) + '_' + step + '.csv')\n",
    "        df_pollution[i].to_csv(filename, sep=\";\", header=True)\n",
    "        string = 'Saved to : \\'' + filename + '\\''\n",
    "        print(string)"
   ]
  },
  {
   "cell_type": "code",
   "execution_count": 3,
   "metadata": {},
   "outputs": [
    {
     "name": "stdout",
     "output_type": "stream",
     "text": [
      "Reading file...\n",
      "Processing: "
     ]
    },
    {
     "name": "stderr",
     "output_type": "stream",
     "text": [
      "/home/tarik/.local/lib/python3.6/site-packages/IPython/core/interactiveshell.py:3263: DtypeWarning: Columns (2) have mixed types.Specify dtype option on import or set low_memory=False.\n",
      "  if (await self.run_code(code, result,  async_=asy)):\n"
     ]
    },
    {
     "name": "stdout",
     "output_type": "stream",
     "text": [
      "20% - 40% - 60% - 80% - 100%\n",
      "\n",
      "Saved to : 'pollution/mesures/reshaped/no_reshaped.csv'\n",
      "Saved to : 'pollution/mesures/reshaped/no2_reshaped.csv'\n",
      "Saved to : 'pollution/mesures/reshaped/o3_reshaped.csv'\n",
      "Saved to : 'pollution/mesures/reshaped/pm2,5_reshaped.csv'\n",
      "Saved to : 'pollution/mesures/reshaped/pm10_reshaped.csv'\n"
     ]
    }
   ],
   "source": [
    "print('Reading file...')\n",
    "print(\"Processing: \", end='')\n",
    "percent = 0\n",
    "for i in range(len(polluants)):\n",
    "    if (int(i*100 / len(polluants)) > percent):\n",
    "            percent = int(i*100 / len(polluants))\n",
    "            string = str(percent) + \"% - \"\n",
    "            print(string, end = '')\n",
    "    df_pollution.append(read_file(polluants[i]))\n",
    "    \n",
    "print(\"100%\\n\")\n",
    "\n",
    "save('reshaped')"
   ]
  },
  {
   "cell_type": "markdown",
   "metadata": {},
   "source": [
    "#### 1.3 Pollution et démographie"
   ]
  },
  {
   "cell_type": "markdown",
   "metadata": {},
   "source": [
    "Récupère la liste de toutes les stations dont les valeurs sont données dans le fichier"
   ]
  },
  {
   "cell_type": "code",
   "execution_count": 4,
   "metadata": {},
   "outputs": [],
   "source": [
    "def get_liste_stations(dataframe):\n",
    "    i = 0\n",
    "    liste_stations = []\n",
    "    while(i < len(dataframe)):\n",
    "        if not (dataframe.iloc[i,0] in liste_stations):\n",
    "            liste_stations.append(dataframe.iloc[i,0])\n",
    "        i = i + 1\n",
    "    return liste_stations\n",
    "\n",
    "def elimine_doublons(entree):\n",
    "    sortie = [entree[0]]\n",
    "    i = 1\n",
    "    while (i < len(entree)):\n",
    "        if entree[i] != sortie[len(sortie) - 1]:\n",
    "            sortie.append(entree[i])\n",
    "        i = i + 1\n",
    "    return sortie"
   ]
  },
  {
   "cell_type": "markdown",
   "metadata": {},
   "source": [
    "Crée un dataframe de la bonne taille en initialisant les valeurs à -1 (valeur inconnue)"
   ]
  },
  {
   "cell_type": "code",
   "execution_count": 5,
   "metadata": {},
   "outputs": [],
   "source": [
    "def init_df(dataframe):\n",
    "    temp_df = []\n",
    "    liste_stations = get_liste_stations(dataframe)\n",
    "    for i in range(len(elimine_doublons(dataframe.index))):\n",
    "        temp = []\n",
    "        for j in range(len(liste_stations)):\n",
    "            temp = temp + [float(-1.0)]\n",
    "        temp_df.append(temp)\n",
    "\n",
    "    ar = numpy.array(temp_df)\n",
    "    temp_df = pd.DataFrame(ar, index = elimine_doublons(dataframe.index), columns = liste_stations)\n",
    "    temp_df\n",
    "    return temp_df\n",
    "\n",
    "def affecte_valeur_correspondante(temp_df, dataframe):\n",
    "    i = 0\n",
    "    k = -1\n",
    "    last = ''\n",
    "    while (i < len(dataframe)):\n",
    "        if (dataframe.index[i] != last):\n",
    "            last = dataframe.index[i]\n",
    "            k = k + 1\n",
    "        temp_df[dataframe.iloc[i,0]][k] = dataframe.iloc[i,1]\n",
    "        i = i + 1\n",
    "    return temp_df"
   ]
  },
  {
   "cell_type": "code",
   "execution_count": 6,
   "metadata": {},
   "outputs": [
    {
     "name": "stdout",
     "output_type": "stream",
     "text": [
      "Processing: 20% - 40% - 60% - 80% - 100%\n",
      "\n",
      "Saved to : 'pollution/mesures/cleaned/no_cleaned.csv'\n",
      "Saved to : 'pollution/mesures/cleaned/no2_cleaned.csv'\n",
      "Saved to : 'pollution/mesures/cleaned/o3_cleaned.csv'\n",
      "Saved to : 'pollution/mesures/cleaned/pm2,5_cleaned.csv'\n",
      "Saved to : 'pollution/mesures/cleaned/pm10_cleaned.csv'\n"
     ]
    }
   ],
   "source": [
    "print(\"Processing: \", end='')\n",
    "percent = 0\n",
    "for i in range(len(df_pollution)):\n",
    "    if (int(i*100 / len(polluants)) > percent):\n",
    "            percent = int(i*100 / len(polluants))\n",
    "            string = str(percent) + \"% - \"\n",
    "            print(string, end = '')\n",
    "    temp_df = init_df(df_pollution[i])\n",
    "    df_pollution[i] = affecte_valeur_correspondante(temp_df, df_pollution[i])\n",
    "\n",
    "print(\"100%\\n\")\n",
    "    \n",
    "save('cleaned')"
   ]
  },
  {
   "cell_type": "markdown",
   "metadata": {},
   "source": [
    "-----------------------------------------------"
   ]
  },
  {
   "cell_type": "markdown",
   "metadata": {},
   "source": [
    "Filtre par date (format `yyyy-mm-dd`)."
   ]
  },
  {
   "cell_type": "code",
   "execution_count": 7,
   "metadata": {},
   "outputs": [],
   "source": [
    "def selection_date(date_debut, date_fin):\n",
    "    for i in range(len(polluants)):\n",
    "        df_pollution[i] = df_pollution[i].loc[date_debut:date_fin]"
   ]
  },
  {
   "cell_type": "markdown",
   "metadata": {},
   "source": [
    "#### 1.2 Données démographiques\n",
    "\n",
    "- *Source* : [***INSEE***](https://www.insee.fr/fr/statistiques/fichier/4989724/ensemble.pdf)"
   ]
  },
  {
   "cell_type": "code",
   "execution_count": 8,
   "metadata": {},
   "outputs": [
    {
     "data": {
      "text/html": [
       "<div>\n",
       "<style scoped>\n",
       "    .dataframe tbody tr th:only-of-type {\n",
       "        vertical-align: middle;\n",
       "    }\n",
       "\n",
       "    .dataframe tbody tr th {\n",
       "        vertical-align: top;\n",
       "    }\n",
       "\n",
       "    .dataframe thead th {\n",
       "        text-align: right;\n",
       "    }\n",
       "</style>\n",
       "<table border=\"1\" class=\"dataframe\">\n",
       "  <thead>\n",
       "    <tr style=\"text-align: right;\">\n",
       "      <th></th>\n",
       "      <th>code_insee</th>\n",
       "      <th>nom_commune</th>\n",
       "      <th>population</th>\n",
       "    </tr>\n",
       "  </thead>\n",
       "  <tbody>\n",
       "    <tr>\n",
       "      <th>0</th>\n",
       "      <td>69029</td>\n",
       "      <td>Bron</td>\n",
       "      <td>42625</td>\n",
       "    </tr>\n",
       "    <tr>\n",
       "      <th>1</th>\n",
       "      <td>69075</td>\n",
       "      <td>Dième</td>\n",
       "      <td>191</td>\n",
       "    </tr>\n",
       "    <tr>\n",
       "      <th>2</th>\n",
       "      <td>69276</td>\n",
       "      <td>Feyzin</td>\n",
       "      <td>9931</td>\n",
       "    </tr>\n",
       "    <tr>\n",
       "      <th>3</th>\n",
       "      <td>69277</td>\n",
       "      <td>Genas</td>\n",
       "      <td>13235</td>\n",
       "    </tr>\n",
       "    <tr>\n",
       "      <th>4</th>\n",
       "      <td>69091</td>\n",
       "      <td>Givors</td>\n",
       "      <td>20225</td>\n",
       "    </tr>\n",
       "    <tr>\n",
       "      <th>5</th>\n",
       "      <td>69142</td>\n",
       "      <td>La Mulatière</td>\n",
       "      <td>6504</td>\n",
       "    </tr>\n",
       "    <tr>\n",
       "      <th>6</th>\n",
       "      <td>69123</td>\n",
       "      <td>Lyon</td>\n",
       "      <td>525236</td>\n",
       "    </tr>\n",
       "    <tr>\n",
       "      <th>7</th>\n",
       "      <td>1249</td>\n",
       "      <td>Miribel</td>\n",
       "      <td>10193</td>\n",
       "    </tr>\n",
       "    <tr>\n",
       "      <th>8</th>\n",
       "      <td>69152</td>\n",
       "      <td>Pierre-Bénite</td>\n",
       "      <td>10522</td>\n",
       "    </tr>\n",
       "    <tr>\n",
       "      <th>9</th>\n",
       "      <td>69285</td>\n",
       "      <td>Pusignan</td>\n",
       "      <td>4147</td>\n",
       "    </tr>\n",
       "    <tr>\n",
       "      <th>10</th>\n",
       "      <td>69199</td>\n",
       "      <td>Saint-Fons</td>\n",
       "      <td>19315</td>\n",
       "    </tr>\n",
       "    <tr>\n",
       "      <th>11</th>\n",
       "      <td>69290</td>\n",
       "      <td>Saint-Priest</td>\n",
       "      <td>46784</td>\n",
       "    </tr>\n",
       "    <tr>\n",
       "      <th>12</th>\n",
       "      <td>69296</td>\n",
       "      <td>Solaize</td>\n",
       "      <td>2971</td>\n",
       "    </tr>\n",
       "    <tr>\n",
       "      <th>13</th>\n",
       "      <td>69297</td>\n",
       "      <td>Ternay</td>\n",
       "      <td>5587</td>\n",
       "    </tr>\n",
       "    <tr>\n",
       "      <th>14</th>\n",
       "      <td>69256</td>\n",
       "      <td>Vaulx-en-Velin</td>\n",
       "      <td>51045</td>\n",
       "    </tr>\n",
       "    <tr>\n",
       "      <th>15</th>\n",
       "      <td>69259</td>\n",
       "      <td>Vénissieux</td>\n",
       "      <td>67397</td>\n",
       "    </tr>\n",
       "    <tr>\n",
       "      <th>16</th>\n",
       "      <td>69260</td>\n",
       "      <td>Vernaison</td>\n",
       "      <td>5057</td>\n",
       "    </tr>\n",
       "    <tr>\n",
       "      <th>17</th>\n",
       "      <td>69264</td>\n",
       "      <td>Villefranche-sur-Saône</td>\n",
       "      <td>36288</td>\n",
       "    </tr>\n",
       "    <tr>\n",
       "      <th>18</th>\n",
       "      <td>69266</td>\n",
       "      <td>Villeurbanne</td>\n",
       "      <td>151727</td>\n",
       "    </tr>\n",
       "    <tr>\n",
       "      <th>19</th>\n",
       "      <td>69269</td>\n",
       "      <td>Yzeron</td>\n",
       "      <td>1029</td>\n",
       "    </tr>\n",
       "  </tbody>\n",
       "</table>\n",
       "</div>"
      ],
      "text/plain": [
       "    code_insee             nom_commune  population\n",
       "0        69029                    Bron       42625\n",
       "1        69075                   Dième         191\n",
       "2        69276                  Feyzin        9931\n",
       "3        69277                   Genas       13235\n",
       "4        69091                  Givors       20225\n",
       "5        69142            La Mulatière        6504\n",
       "6        69123                    Lyon      525236\n",
       "7         1249                 Miribel       10193\n",
       "8        69152           Pierre-Bénite       10522\n",
       "9        69285                Pusignan        4147\n",
       "10       69199              Saint-Fons       19315\n",
       "11       69290            Saint-Priest       46784\n",
       "12       69296                 Solaize        2971\n",
       "13       69297                  Ternay        5587\n",
       "14       69256          Vaulx-en-Velin       51045\n",
       "15       69259              Vénissieux       67397\n",
       "16       69260               Vernaison        5057\n",
       "17       69264  Villefranche-sur-Saône       36288\n",
       "18       69266            Villeurbanne      151727\n",
       "19       69269                  Yzeron        1029"
      ]
     },
     "execution_count": 8,
     "metadata": {},
     "output_type": "execute_result"
    }
   ],
   "source": [
    "df_demographie = pd.read_csv('demographie/demographie.csv', sep=\";\")\n",
    "\n",
    "df_demographie"
   ]
  },
  {
   "cell_type": "markdown",
   "metadata": {},
   "source": [
    "#### 1.3 Population exposée par station"
   ]
  },
  {
   "cell_type": "code",
   "execution_count": 9,
   "metadata": {},
   "outputs": [],
   "source": [
    "df_station = pd.read_csv('pollution/stations/stations69.csv', sep=\";\")"
   ]
  },
  {
   "cell_type": "code",
   "execution_count": 10,
   "metadata": {},
   "outputs": [
    {
     "name": "stdout",
     "output_type": "stream",
     "text": [
      "Saved to : 'pollution/stations/station_pop.csv'\n"
     ]
    }
   ],
   "source": [
    "ar = []\n",
    "for k in range(len(df_station)):\n",
    "    for i in range(len(df_demographie)):\n",
    "        if (df_station['insee'][k] == df_demographie['code_insee'][i]):\n",
    "            ar.append([df_demographie['population'][i]])   \n",
    "\n",
    "ar = numpy.array(ar)\n",
    "df_station_pop = pd.DataFrame(ar, index = df_station['id'], columns = ['population'])\n",
    "                      \n",
    "filename  = str('pollution/stations/station_pop.csv')\n",
    "df_station_pop.to_csv(filename, sep=\";\", header=True)\n",
    "string = 'Saved to : \\'' + filename + '\\''\n",
    "print(string)"
   ]
  },
  {
   "cell_type": "markdown",
   "metadata": {},
   "source": [
    "#### 1.4 Indicateur de pollution"
   ]
  },
  {
   "cell_type": "markdown",
   "metadata": {},
   "source": [
    "Calcul d'un nouvel indicateur pour chaque polluant comme suit:\n",
    "\n",
    "$\\sum_{i=1}^n mesure\\_station_i * population\\_station_i \\; / \\; population\\_totale$"
   ]
  },
  {
   "cell_type": "code",
   "execution_count": 11,
   "metadata": {},
   "outputs": [],
   "source": [
    "def mafonction():\n",
    "    wrong_station = []\n",
    "    for i in range(len(polluants)):\n",
    "        n = 0\n",
    "        for j in range(len(df_pollution[i])):\n",
    "            for k in range(len(df_pollution[i].iloc[j])):\n",
    "                if (df_pollution[i].iloc[j,k] < 0.0 and df_pollution[i].iloc[j,k] != -1.0):\n",
    "                    if (not(df_pollution[i].columns[k] in wrong_station)):\n",
    "                        wrong_station.append(df_pollution[i].columns[k])\n",
    "    return wrong_station"
   ]
  },
  {
   "cell_type": "code",
   "execution_count": 12,
   "metadata": {},
   "outputs": [],
   "source": [
    "def indicateur_jour(df_fun):\n",
    "    dataframe = df_fun\n",
    "    values = []\n",
    "    for i in range(len(dataframe)):\n",
    "        jour = dataframe.index[i]\n",
    "        pop_exposee = 0.0\n",
    "        somme = 0.0\n",
    "        for j in range(len(dataframe.loc[jour])):\n",
    "            if (float(dataframe.loc[jour][j]) > 0.0):\n",
    "                somme = somme + (dataframe.loc[jour][j] * df_station_pop.loc[str(df_pollution[0].columns[j])][0])\n",
    "                pop_exposee = pop_exposee + df_station_pop.loc[str(df_pollution[0].columns[j])][0]\n",
    "        if pop_exposee == 0.0:\n",
    "            values.append(-1.0)\n",
    "        else:\n",
    "            values.append(round(somme/pop_exposee, 2))\n",
    "    dataframe['indicateur'] = values\n",
    "    return dataframe"
   ]
  },
  {
   "cell_type": "code",
   "execution_count": 13,
   "metadata": {
    "scrolled": false
   },
   "outputs": [
    {
     "name": "stdout",
     "output_type": "stream",
     "text": [
      "Processing: 20% - 40% - 60% - 80% - 100%\n",
      "\n",
      "Saved to : 'pollution/mesures/indicateur/no_indicateur.csv'\n",
      "Saved to : 'pollution/mesures/indicateur/no2_indicateur.csv'\n",
      "Saved to : 'pollution/mesures/indicateur/o3_indicateur.csv'\n",
      "Saved to : 'pollution/mesures/indicateur/pm2,5_indicateur.csv'\n",
      "Saved to : 'pollution/mesures/indicateur/pm10_indicateur.csv'\n"
     ]
    }
   ],
   "source": [
    "print(\"Processing: \", end='')\n",
    "percent = 0\n",
    "for i in range(len(df_pollution)):\n",
    "    if (int(i*100 / len(polluants)) > percent):\n",
    "            percent = int(i*100 / len(polluants))\n",
    "            string = str(percent) + \"% - \"\n",
    "            print(string, end = '')\n",
    "    df_pollution[i] = indicateur_jour(df_pollution[i])\n",
    "print(\"100%\\n\")\n",
    "\n",
    "save('indicateur')"
   ]
  },
  {
   "cell_type": "code",
   "execution_count": 14,
   "metadata": {},
   "outputs": [
    {
     "data": {
      "text/html": [
       "<div>\n",
       "<style scoped>\n",
       "    .dataframe tbody tr th:only-of-type {\n",
       "        vertical-align: middle;\n",
       "    }\n",
       "\n",
       "    .dataframe tbody tr th {\n",
       "        vertical-align: top;\n",
       "    }\n",
       "\n",
       "    .dataframe thead th {\n",
       "        text-align: right;\n",
       "    }\n",
       "</style>\n",
       "<table border=\"1\" class=\"dataframe\">\n",
       "  <thead>\n",
       "    <tr style=\"text-align: right;\">\n",
       "      <th></th>\n",
       "      <th>FR20003</th>\n",
       "      <th>FR20017</th>\n",
       "      <th>FR20038</th>\n",
       "      <th>FR20045</th>\n",
       "      <th>FR20026</th>\n",
       "      <th>FR20049</th>\n",
       "      <th>FR20019</th>\n",
       "      <th>FR20002</th>\n",
       "      <th>FR20037</th>\n",
       "      <th>FR20029</th>\n",
       "      <th>...</th>\n",
       "      <th>FR20046</th>\n",
       "      <th>FR20061</th>\n",
       "      <th>FR20062</th>\n",
       "      <th>FR20063</th>\n",
       "      <th>FR20065</th>\n",
       "      <th>FR20069</th>\n",
       "      <th>FR20070</th>\n",
       "      <th>FR20071</th>\n",
       "      <th>FR20077</th>\n",
       "      <th>indicateur</th>\n",
       "    </tr>\n",
       "  </thead>\n",
       "  <tbody>\n",
       "    <tr>\n",
       "      <th>01/01/2000</th>\n",
       "      <td>119.0</td>\n",
       "      <td>59.0</td>\n",
       "      <td>37.0</td>\n",
       "      <td>19.0</td>\n",
       "      <td>98.0</td>\n",
       "      <td>0.0</td>\n",
       "      <td>113.0</td>\n",
       "      <td>145.0</td>\n",
       "      <td>38.0</td>\n",
       "      <td>20.0</td>\n",
       "      <td>...</td>\n",
       "      <td>-1.0</td>\n",
       "      <td>-1.0</td>\n",
       "      <td>-1.0</td>\n",
       "      <td>-1.0</td>\n",
       "      <td>-1.0</td>\n",
       "      <td>-1.0</td>\n",
       "      <td>-1.0</td>\n",
       "      <td>-1.0</td>\n",
       "      <td>-1.0</td>\n",
       "      <td>105.52</td>\n",
       "    </tr>\n",
       "    <tr>\n",
       "      <th>02/01/2000</th>\n",
       "      <td>77.0</td>\n",
       "      <td>27.0</td>\n",
       "      <td>32.0</td>\n",
       "      <td>30.0</td>\n",
       "      <td>81.0</td>\n",
       "      <td>0.0</td>\n",
       "      <td>70.0</td>\n",
       "      <td>65.0</td>\n",
       "      <td>34.0</td>\n",
       "      <td>12.0</td>\n",
       "      <td>...</td>\n",
       "      <td>-1.0</td>\n",
       "      <td>-1.0</td>\n",
       "      <td>-1.0</td>\n",
       "      <td>-1.0</td>\n",
       "      <td>-1.0</td>\n",
       "      <td>-1.0</td>\n",
       "      <td>-1.0</td>\n",
       "      <td>-1.0</td>\n",
       "      <td>-1.0</td>\n",
       "      <td>53.87</td>\n",
       "    </tr>\n",
       "    <tr>\n",
       "      <th>03/01/2000</th>\n",
       "      <td>186.0</td>\n",
       "      <td>46.0</td>\n",
       "      <td>20.0</td>\n",
       "      <td>108.0</td>\n",
       "      <td>69.0</td>\n",
       "      <td>0.0</td>\n",
       "      <td>178.0</td>\n",
       "      <td>132.0</td>\n",
       "      <td>55.0</td>\n",
       "      <td>42.0</td>\n",
       "      <td>...</td>\n",
       "      <td>-1.0</td>\n",
       "      <td>-1.0</td>\n",
       "      <td>-1.0</td>\n",
       "      <td>-1.0</td>\n",
       "      <td>-1.0</td>\n",
       "      <td>-1.0</td>\n",
       "      <td>-1.0</td>\n",
       "      <td>-1.0</td>\n",
       "      <td>-1.0</td>\n",
       "      <td>118.31</td>\n",
       "    </tr>\n",
       "    <tr>\n",
       "      <th>04/01/2000</th>\n",
       "      <td>316.0</td>\n",
       "      <td>189.0</td>\n",
       "      <td>106.0</td>\n",
       "      <td>182.0</td>\n",
       "      <td>189.0</td>\n",
       "      <td>0.0</td>\n",
       "      <td>261.0</td>\n",
       "      <td>262.0</td>\n",
       "      <td>119.0</td>\n",
       "      <td>109.0</td>\n",
       "      <td>...</td>\n",
       "      <td>-1.0</td>\n",
       "      <td>-1.0</td>\n",
       "      <td>-1.0</td>\n",
       "      <td>-1.0</td>\n",
       "      <td>-1.0</td>\n",
       "      <td>-1.0</td>\n",
       "      <td>-1.0</td>\n",
       "      <td>-1.0</td>\n",
       "      <td>-1.0</td>\n",
       "      <td>247.51</td>\n",
       "    </tr>\n",
       "    <tr>\n",
       "      <th>05/01/2000</th>\n",
       "      <td>354.0</td>\n",
       "      <td>203.0</td>\n",
       "      <td>117.0</td>\n",
       "      <td>121.0</td>\n",
       "      <td>183.0</td>\n",
       "      <td>-1.0</td>\n",
       "      <td>267.0</td>\n",
       "      <td>289.0</td>\n",
       "      <td>139.0</td>\n",
       "      <td>193.0</td>\n",
       "      <td>...</td>\n",
       "      <td>-1.0</td>\n",
       "      <td>-1.0</td>\n",
       "      <td>-1.0</td>\n",
       "      <td>-1.0</td>\n",
       "      <td>-1.0</td>\n",
       "      <td>-1.0</td>\n",
       "      <td>-1.0</td>\n",
       "      <td>-1.0</td>\n",
       "      <td>-1.0</td>\n",
       "      <td>264.85</td>\n",
       "    </tr>\n",
       "    <tr>\n",
       "      <th>...</th>\n",
       "      <td>...</td>\n",
       "      <td>...</td>\n",
       "      <td>...</td>\n",
       "      <td>...</td>\n",
       "      <td>...</td>\n",
       "      <td>...</td>\n",
       "      <td>...</td>\n",
       "      <td>...</td>\n",
       "      <td>...</td>\n",
       "      <td>...</td>\n",
       "      <td>...</td>\n",
       "      <td>...</td>\n",
       "      <td>...</td>\n",
       "      <td>...</td>\n",
       "      <td>...</td>\n",
       "      <td>...</td>\n",
       "      <td>...</td>\n",
       "      <td>...</td>\n",
       "      <td>...</td>\n",
       "      <td>...</td>\n",
       "      <td>...</td>\n",
       "    </tr>\n",
       "    <tr>\n",
       "      <th>10/05/2021</th>\n",
       "      <td>-1.0</td>\n",
       "      <td>-1.0</td>\n",
       "      <td>-1.0</td>\n",
       "      <td>-1.0</td>\n",
       "      <td>-1.0</td>\n",
       "      <td>-1.0</td>\n",
       "      <td>8.6</td>\n",
       "      <td>-1.0</td>\n",
       "      <td>-1.0</td>\n",
       "      <td>-1.0</td>\n",
       "      <td>...</td>\n",
       "      <td>-1.0</td>\n",
       "      <td>-1.0</td>\n",
       "      <td>-1.0</td>\n",
       "      <td>-1.0</td>\n",
       "      <td>-1.0</td>\n",
       "      <td>-1.0</td>\n",
       "      <td>-1.0</td>\n",
       "      <td>-1.0</td>\n",
       "      <td>-1.0</td>\n",
       "      <td>8.60</td>\n",
       "    </tr>\n",
       "    <tr>\n",
       "      <th>11/05/2021</th>\n",
       "      <td>-1.0</td>\n",
       "      <td>2.3</td>\n",
       "      <td>-1.0</td>\n",
       "      <td>-1.0</td>\n",
       "      <td>-1.0</td>\n",
       "      <td>-1.0</td>\n",
       "      <td>9.7</td>\n",
       "      <td>-1.0</td>\n",
       "      <td>0.9</td>\n",
       "      <td>-1.0</td>\n",
       "      <td>...</td>\n",
       "      <td>-1.0</td>\n",
       "      <td>-1.0</td>\n",
       "      <td>-1.0</td>\n",
       "      <td>-1.0</td>\n",
       "      <td>50.2</td>\n",
       "      <td>22.1</td>\n",
       "      <td>8.9</td>\n",
       "      <td>-1.0</td>\n",
       "      <td>0.8</td>\n",
       "      <td>19.17</td>\n",
       "    </tr>\n",
       "    <tr>\n",
       "      <th>16/05/2021</th>\n",
       "      <td>-1.0</td>\n",
       "      <td>-1.0</td>\n",
       "      <td>-1.0</td>\n",
       "      <td>-1.0</td>\n",
       "      <td>-1.0</td>\n",
       "      <td>-1.0</td>\n",
       "      <td>9.4</td>\n",
       "      <td>-1.0</td>\n",
       "      <td>-1.0</td>\n",
       "      <td>-1.0</td>\n",
       "      <td>...</td>\n",
       "      <td>-1.0</td>\n",
       "      <td>-1.0</td>\n",
       "      <td>-1.0</td>\n",
       "      <td>-1.0</td>\n",
       "      <td>-1.0</td>\n",
       "      <td>-1.0</td>\n",
       "      <td>-1.0</td>\n",
       "      <td>-1.0</td>\n",
       "      <td>-1.0</td>\n",
       "      <td>9.40</td>\n",
       "    </tr>\n",
       "    <tr>\n",
       "      <th>17/05/2021</th>\n",
       "      <td>-1.0</td>\n",
       "      <td>-1.0</td>\n",
       "      <td>-1.0</td>\n",
       "      <td>-1.0</td>\n",
       "      <td>-1.0</td>\n",
       "      <td>-1.0</td>\n",
       "      <td>16.1</td>\n",
       "      <td>-1.0</td>\n",
       "      <td>-1.0</td>\n",
       "      <td>-1.0</td>\n",
       "      <td>...</td>\n",
       "      <td>-1.0</td>\n",
       "      <td>-1.0</td>\n",
       "      <td>-1.0</td>\n",
       "      <td>-1.0</td>\n",
       "      <td>-1.0</td>\n",
       "      <td>-1.0</td>\n",
       "      <td>-1.0</td>\n",
       "      <td>-1.0</td>\n",
       "      <td>-1.0</td>\n",
       "      <td>16.10</td>\n",
       "    </tr>\n",
       "    <tr>\n",
       "      <th>19/05/2021</th>\n",
       "      <td>-1.0</td>\n",
       "      <td>-1.0</td>\n",
       "      <td>-1.0</td>\n",
       "      <td>-1.0</td>\n",
       "      <td>-1.0</td>\n",
       "      <td>-1.0</td>\n",
       "      <td>12.2</td>\n",
       "      <td>-1.0</td>\n",
       "      <td>-1.0</td>\n",
       "      <td>-1.0</td>\n",
       "      <td>...</td>\n",
       "      <td>-1.0</td>\n",
       "      <td>-1.0</td>\n",
       "      <td>-1.0</td>\n",
       "      <td>-1.0</td>\n",
       "      <td>-1.0</td>\n",
       "      <td>-1.0</td>\n",
       "      <td>-1.0</td>\n",
       "      <td>-1.0</td>\n",
       "      <td>-1.0</td>\n",
       "      <td>12.20</td>\n",
       "    </tr>\n",
       "  </tbody>\n",
       "</table>\n",
       "<p>7803 rows × 29 columns</p>\n",
       "</div>"
      ],
      "text/plain": [
       "            FR20003  FR20017  FR20038  FR20045  FR20026  FR20049  FR20019  \\\n",
       "01/01/2000    119.0     59.0     37.0     19.0     98.0      0.0    113.0   \n",
       "02/01/2000     77.0     27.0     32.0     30.0     81.0      0.0     70.0   \n",
       "03/01/2000    186.0     46.0     20.0    108.0     69.0      0.0    178.0   \n",
       "04/01/2000    316.0    189.0    106.0    182.0    189.0      0.0    261.0   \n",
       "05/01/2000    354.0    203.0    117.0    121.0    183.0     -1.0    267.0   \n",
       "...             ...      ...      ...      ...      ...      ...      ...   \n",
       "10/05/2021     -1.0     -1.0     -1.0     -1.0     -1.0     -1.0      8.6   \n",
       "11/05/2021     -1.0      2.3     -1.0     -1.0     -1.0     -1.0      9.7   \n",
       "16/05/2021     -1.0     -1.0     -1.0     -1.0     -1.0     -1.0      9.4   \n",
       "17/05/2021     -1.0     -1.0     -1.0     -1.0     -1.0     -1.0     16.1   \n",
       "19/05/2021     -1.0     -1.0     -1.0     -1.0     -1.0     -1.0     12.2   \n",
       "\n",
       "            FR20002  FR20037  FR20029  ...  FR20046  FR20061  FR20062  \\\n",
       "01/01/2000    145.0     38.0     20.0  ...     -1.0     -1.0     -1.0   \n",
       "02/01/2000     65.0     34.0     12.0  ...     -1.0     -1.0     -1.0   \n",
       "03/01/2000    132.0     55.0     42.0  ...     -1.0     -1.0     -1.0   \n",
       "04/01/2000    262.0    119.0    109.0  ...     -1.0     -1.0     -1.0   \n",
       "05/01/2000    289.0    139.0    193.0  ...     -1.0     -1.0     -1.0   \n",
       "...             ...      ...      ...  ...      ...      ...      ...   \n",
       "10/05/2021     -1.0     -1.0     -1.0  ...     -1.0     -1.0     -1.0   \n",
       "11/05/2021     -1.0      0.9     -1.0  ...     -1.0     -1.0     -1.0   \n",
       "16/05/2021     -1.0     -1.0     -1.0  ...     -1.0     -1.0     -1.0   \n",
       "17/05/2021     -1.0     -1.0     -1.0  ...     -1.0     -1.0     -1.0   \n",
       "19/05/2021     -1.0     -1.0     -1.0  ...     -1.0     -1.0     -1.0   \n",
       "\n",
       "            FR20063  FR20065  FR20069  FR20070  FR20071  FR20077  indicateur  \n",
       "01/01/2000     -1.0     -1.0     -1.0     -1.0     -1.0     -1.0      105.52  \n",
       "02/01/2000     -1.0     -1.0     -1.0     -1.0     -1.0     -1.0       53.87  \n",
       "03/01/2000     -1.0     -1.0     -1.0     -1.0     -1.0     -1.0      118.31  \n",
       "04/01/2000     -1.0     -1.0     -1.0     -1.0     -1.0     -1.0      247.51  \n",
       "05/01/2000     -1.0     -1.0     -1.0     -1.0     -1.0     -1.0      264.85  \n",
       "...             ...      ...      ...      ...      ...      ...         ...  \n",
       "10/05/2021     -1.0     -1.0     -1.0     -1.0     -1.0     -1.0        8.60  \n",
       "11/05/2021     -1.0     50.2     22.1      8.9     -1.0      0.8       19.17  \n",
       "16/05/2021     -1.0     -1.0     -1.0     -1.0     -1.0     -1.0        9.40  \n",
       "17/05/2021     -1.0     -1.0     -1.0     -1.0     -1.0     -1.0       16.10  \n",
       "19/05/2021     -1.0     -1.0     -1.0     -1.0     -1.0     -1.0       12.20  \n",
       "\n",
       "[7803 rows x 29 columns]"
      ]
     },
     "execution_count": 14,
     "metadata": {},
     "output_type": "execute_result"
    }
   ],
   "source": [
    "df_pollution[0]"
   ]
  },
  {
   "cell_type": "code",
   "execution_count": 15,
   "metadata": {},
   "outputs": [],
   "source": [
    "selection_date('01/01/2007', '31/12/2019')"
   ]
  },
  {
   "cell_type": "code",
   "execution_count": 16,
   "metadata": {},
   "outputs": [],
   "source": [
    "def knn(n = 1):\n",
    "    for i in range(len(polluants)):\n",
    "        if (polluants[i] != 'so2' and polluants[i] != 'co'):\n",
    "            for j in range(len(df_pollution[i]['indicateur'])):\n",
    "                if ((df_pollution[i]['indicateur'][j] < 0.0) and (j >= 0 + n) and (j <= (len(df_pollution[i]['indicateur']) - n - 1)) and (df_pollution[i]['indicateur'][j - n]) > 0.0 and (df_pollution[i]['indicateur'][j + n] > 0.0)):\n",
    "                    temp = 0.0\n",
    "                    k = - n\n",
    "                    while (k <= n):\n",
    "                        if (k != 0):\n",
    "                            temp = temp + df_pollution[i]['indicateur'][j + k]\n",
    "                            print(df_pollution[i]['indicateur'][j + k])\n",
    "                        k = k + 1\n",
    "                        df_pollution[i]['indicateur'][j] = round(temp / k,2)"
   ]
  },
  {
   "cell_type": "code",
   "execution_count": 17,
   "metadata": {},
   "outputs": [
    {
     "name": "stdout",
     "output_type": "stream",
     "text": [
      "19.51\n",
      "7.83\n",
      "no : 0/4748\n"
     ]
    },
    {
     "name": "stderr",
     "output_type": "stream",
     "text": [
      "/usr/local/lib/python3.6/dist-packages/ipykernel_launcher.py:13: RuntimeWarning: divide by zero encountered in double_scalars\n",
      "  del sys.path[0]\n",
      "/usr/local/lib/python3.6/dist-packages/ipykernel_launcher.py:1: SettingWithCopyWarning: \n",
      "A value is trying to be set on a copy of a slice from a DataFrame\n",
      "\n",
      "See the caveats in the documentation: https://pandas.pydata.org/pandas-docs/stable/user_guide/indexing.html#returning-a-view-versus-a-copy\n",
      "  \"\"\"Entry point for launching an IPython kernel.\n"
     ]
    },
    {
     "name": "stdout",
     "output_type": "stream",
     "text": [
      "no2 : 0/4748\n",
      "o3 : 0/4748\n",
      "pm2,5 : 0/4748\n",
      "pm10 : 0/4748\n"
     ]
    }
   ],
   "source": [
    "knn(1)\n",
    "\n",
    "def verifie_negatif():\n",
    "    for i in range(len(polluants)):\n",
    "        n = 0\n",
    "        if (polluants[i] != 'so2' and polluants[i] != 'co'):\n",
    "            for j in range(len(df_pollution[i]['indicateur'])):\n",
    "                if (df_pollution[i]['indicateur'][j] < 0.0):\n",
    "                        n = n + 1\n",
    "            print(polluants[i], end = ' : ')\n",
    "            print(n, end = '/')\n",
    "            print(len(df_pollution[i]['indicateur']))\n",
    "            \n",
    "verifie_negatif()"
   ]
  },
  {
   "cell_type": "markdown",
   "metadata": {},
   "source": [
    "#### 1.5 Statistiques"
   ]
  },
  {
   "cell_type": "markdown",
   "metadata": {},
   "source": [
    "Pour chacun des polluants, calcul des indicateurs stastistiques suivants:\n",
    "- moyenne ('moyenne')\n",
    "- 1er quartile ('q1')\n",
    "- médiane ('q2')\n",
    "- 3ème quartile ('q3')\n",
    "- dernier décile ('d10')"
   ]
  },
  {
   "cell_type": "code",
   "execution_count": 18,
   "metadata": {},
   "outputs": [],
   "source": [
    "# Retourne : liste [moyenne, 1er_quartile, mediane, 3eme_quartile, dernier_decile]\n",
    "def get_stats(values):\n",
    "    valeurs = []\n",
    "    somme = 0.0\n",
    "    for i in range(len(values)):\n",
    "        if (values[i] != -1.0):\n",
    "            valeurs.append(values[i])\n",
    "            somme = somme + values[i]\n",
    "    valeurs = sorted(valeurs)\n",
    "    return [round(somme / float(len(valeurs)),2), \n",
    "            round (valeurs[len(valeurs)//4],2), \n",
    "            round(valeurs[len(valeurs)//2],2), \n",
    "            round(valeurs[(3*(len(valeurs))//4)],2),\n",
    "            round(valeurs[(9*(len(valeurs))//10)],2)]\n",
    "\n"
   ]
  },
  {
   "cell_type": "code",
   "execution_count": 19,
   "metadata": {},
   "outputs": [
    {
     "data": {
      "text/html": [
       "<div>\n",
       "<style scoped>\n",
       "    .dataframe tbody tr th:only-of-type {\n",
       "        vertical-align: middle;\n",
       "    }\n",
       "\n",
       "    .dataframe tbody tr th {\n",
       "        vertical-align: top;\n",
       "    }\n",
       "\n",
       "    .dataframe thead th {\n",
       "        text-align: right;\n",
       "    }\n",
       "</style>\n",
       "<table border=\"1\" class=\"dataframe\">\n",
       "  <thead>\n",
       "    <tr style=\"text-align: right;\">\n",
       "      <th></th>\n",
       "      <th>moyenne</th>\n",
       "      <th>q1</th>\n",
       "      <th>mediane</th>\n",
       "      <th>q3</th>\n",
       "      <th>d10</th>\n",
       "    </tr>\n",
       "  </thead>\n",
       "  <tbody>\n",
       "    <tr>\n",
       "      <th>no</th>\n",
       "      <td>29.18</td>\n",
       "      <td>11.67</td>\n",
       "      <td>19.57</td>\n",
       "      <td>34.41</td>\n",
       "      <td>62.62</td>\n",
       "    </tr>\n",
       "    <tr>\n",
       "      <th>no2</th>\n",
       "      <td>32.59</td>\n",
       "      <td>22.51</td>\n",
       "      <td>30.74</td>\n",
       "      <td>40.48</td>\n",
       "      <td>50.45</td>\n",
       "    </tr>\n",
       "    <tr>\n",
       "      <th>o3</th>\n",
       "      <td>51.88</td>\n",
       "      <td>34.40</td>\n",
       "      <td>51.40</td>\n",
       "      <td>67.86</td>\n",
       "      <td>81.91</td>\n",
       "    </tr>\n",
       "    <tr>\n",
       "      <th>pm2,5</th>\n",
       "      <td>19.68</td>\n",
       "      <td>10.65</td>\n",
       "      <td>16.10</td>\n",
       "      <td>24.44</td>\n",
       "      <td>36.38</td>\n",
       "    </tr>\n",
       "    <tr>\n",
       "      <th>pm10</th>\n",
       "      <td>25.10</td>\n",
       "      <td>15.70</td>\n",
       "      <td>21.65</td>\n",
       "      <td>30.48</td>\n",
       "      <td>42.37</td>\n",
       "    </tr>\n",
       "  </tbody>\n",
       "</table>\n",
       "</div>"
      ],
      "text/plain": [
       "       moyenne     q1  mediane     q3    d10\n",
       "no       29.18  11.67    19.57  34.41  62.62\n",
       "no2      32.59  22.51    30.74  40.48  50.45\n",
       "o3       51.88  34.40    51.40  67.86  81.91\n",
       "pm2,5    19.68  10.65    16.10  24.44  36.38\n",
       "pm10     25.10  15.70    21.65  30.48  42.37"
      ]
     },
     "execution_count": 19,
     "metadata": {},
     "output_type": "execute_result"
    }
   ],
   "source": [
    "statistiques = ['moyenne','q1','mediane','q3','d10']\n",
    "stats = []\n",
    "for k in range(len(df_pollution)):\n",
    "    stats.append(get_stats(df_pollution[k]['indicateur']))\n",
    "    \n",
    "ar = numpy.array(stats)\n",
    "df_stats = pd.DataFrame(ar, index = polluants, columns = statistiques)\n",
    "df_stats"
   ]
  },
  {
   "cell_type": "code",
   "execution_count": 20,
   "metadata": {},
   "outputs": [],
   "source": [
    "df_stats.to_csv('pollution/stats.csv', sep=\";\", header=True)"
   ]
  },
  {
   "cell_type": "markdown",
   "metadata": {},
   "source": [
    "#### 1.5 Visualisation"
   ]
  },
  {
   "cell_type": "markdown",
   "metadata": {},
   "source": [
    "Variation de l'indique journalier.\n",
    "\n",
    "Comparaison avec la moyenne et le dernier décile"
   ]
  },
  {
   "cell_type": "code",
   "execution_count": 21,
   "metadata": {},
   "outputs": [],
   "source": [
    "def plot_variation_pollution(n):\n",
    "    plt.clf()\n",
    "    # Note that even in the OO-style, we use `.pyplot.figure` to create the figure.\n",
    "    fig, ax = plt.subplots()  # Create a figure and an axes.\n",
    "    length = len(df_pollution[n]['indicateur'])\n",
    "    x = []\n",
    "    #for i in range(len(df_pollution[n])):\n",
    "        #x.append(df_pollution[n].index[i])\n",
    "    x = range(len(df_pollution[n]))\n",
    "    ax.plot(x, df_pollution[n]['indicateur'], color='green', linewidth=1, label = 'valeur indicateur')\n",
    "    ax.plot(x, numpy.full((1,length),df_stats['moyenne'][n])[0], color='red', linewidth=1, label = 'moyenne')\n",
    "    ax.plot(x, numpy.full((1,length),df_stats['d10'][n])[0], color='black', linewidth=1, label = 'dernier décile')\n",
    "    ax.set_xlabel('jour')  # Add an x-label to the axes.\n",
    "    ax.set_ylabel('valeur')  # Add a y-label to the axes.\n",
    "    titre = 'Indicateur de pollution pour \\'' + polluants[n]  + '\\''\n",
    "    ax.set_title(titre)  # Add a title to the axes.\n",
    "    ax.legend()  # Add a legend.\n",
    "    plt.gca().tick_params(axis = 'x', length = 0)\n",
    "    plt.tick_params(axis = 'x', length = 0)\n",
    "    plt.savefig(\"sorties/indicateur-\"+ polluants[n] + \".png\")\n",
    "    plt.show()\n"
   ]
  },
  {
   "cell_type": "code",
   "execution_count": 22,
   "metadata": {},
   "outputs": [
    {
     "data": {
      "text/plain": [
       "<Figure size 432x288 with 0 Axes>"
      ]
     },
     "metadata": {},
     "output_type": "display_data"
    },
    {
     "data": {
      "image/png": "[encoded data removed]",
      "text/plain": [
       "<Figure size 432x288 with 1 Axes>"
      ]
     },
     "metadata": {
      "needs_background": "light"
     },
     "output_type": "display_data"
    },
    {
     "data": {
      "text/plain": [
       "<Figure size 432x288 with 0 Axes>"
      ]
     },
     "metadata": {},
     "output_type": "display_data"
    },
    {
     "data": {
      "image/png": "[encoded data removed]",
      "text/plain": [
       "<Figure size 432x288 with 1 Axes>"
      ]
     },
     "metadata": {
      "needs_background": "light"
     },
     "output_type": "display_data"
    },
    {
     "data": {
      "text/plain": [
       "<Figure size 432x288 with 0 Axes>"
      ]
     },
     "metadata": {},
     "output_type": "display_data"
    },
    {
     "data": {
      "image/png": "[encoded data removed]",
      "text/plain": [
       "<Figure size 432x288 with 1 Axes>"
      ]
     },
     "metadata": {
      "needs_background": "light"
     },
     "output_type": "display_data"
    },
    {
     "data": {
      "text/plain": [
       "<Figure size 432x288 with 0 Axes>"
      ]
     },
     "metadata": {},
     "output_type": "display_data"
    },
    {
     "data": {
      "image/png": "[encoded data removed]",
      "text/plain": [
       "<Figure size 432x288 with 1 Axes>"
      ]
     },
     "metadata": {
      "needs_background": "light"
     },
     "output_type": "display_data"
    },
    {
     "data": {
      "text/plain": [
       "<Figure size 432x288 with 0 Axes>"
      ]
     },
     "metadata": {},
     "output_type": "display_data"
    },
    {
     "data": {
      "image/png": "[encoded data removed]",
      "text/plain": [
       "<Figure size 432x288 with 1 Axes>"
      ]
     },
     "metadata": {
      "needs_background": "light"
     },
     "output_type": "display_data"
    }
   ],
   "source": [
    "for i in range(len(polluants)):\n",
    "    plot_variation_pollution(i)"
   ]
  },
  {
   "cell_type": "markdown",
   "metadata": {},
   "source": [
    "Ajout des outils statistiques dans les dataframes"
   ]
  },
  {
   "cell_type": "code",
   "execution_count": 23,
   "metadata": {},
   "outputs": [],
   "source": [
    "def add_stats(dataframe, n):\n",
    "    values = []\n",
    "    for i in range(len(dataframe)):\n",
    "        temp = []\n",
    "        for j in range(len(df_stats.iloc[0])):\n",
    "            if (dataframe['indicateur'][i] > df_stats.iloc[n,j]):\n",
    "                temp.append(1)\n",
    "            else:\n",
    "                temp.append(0)\n",
    "        values.append(temp)\n",
    "    ar = numpy.array(values)\n",
    "    ar = ar.transpose()\n",
    "    for i in range(len(statistiques)):\n",
    "        dataframe[statistiques[i]] = ar[i]\n",
    "    return dataframe\n",
    "\n",
    "def add_seuil(dataframe, seuil):\n",
    "    values = []\n",
    "    for i in range(len(dataframe)):\n",
    "        if (dataframe['indicateur'][i] > seuil):\n",
    "            values.append(1)\n",
    "        else:\n",
    "            values.append(0)\n",
    "    ar = numpy.array(values)\n",
    "    ar = ar.transpose()\n",
    "    dataframe['seuil_oms'] = ar\n",
    "    return dataframe"
   ]
  },
  {
   "cell_type": "code",
   "execution_count": 24,
   "metadata": {},
   "outputs": [
    {
     "name": "stdout",
     "output_type": "stream",
     "text": [
      "Processing: "
     ]
    },
    {
     "name": "stderr",
     "output_type": "stream",
     "text": [
      "/usr/local/lib/python3.6/dist-packages/ipykernel_launcher.py:14: SettingWithCopyWarning: \n",
      "A value is trying to be set on a copy of a slice from a DataFrame.\n",
      "Try using .loc[row_indexer,col_indexer] = value instead\n",
      "\n",
      "See the caveats in the documentation: https://pandas.pydata.org/pandas-docs/stable/user_guide/indexing.html#returning-a-view-versus-a-copy\n",
      "  \n"
     ]
    },
    {
     "name": "stdout",
     "output_type": "stream",
     "text": [
      "20% - 40% - 60% - 80% - 100%\n",
      "\n",
      "Saved to : 'pollution/mesures/stats/no_stats.csv'\n"
     ]
    },
    {
     "name": "stderr",
     "output_type": "stream",
     "text": [
      "/usr/local/lib/python3.6/dist-packages/ipykernel_launcher.py:26: SettingWithCopyWarning: \n",
      "A value is trying to be set on a copy of a slice from a DataFrame.\n",
      "Try using .loc[row_indexer,col_indexer] = value instead\n",
      "\n",
      "See the caveats in the documentation: https://pandas.pydata.org/pandas-docs/stable/user_guide/indexing.html#returning-a-view-versus-a-copy\n"
     ]
    },
    {
     "name": "stdout",
     "output_type": "stream",
     "text": [
      "Saved to : 'pollution/mesures/stats/no2_stats.csv'\n",
      "Saved to : 'pollution/mesures/stats/o3_stats.csv'\n",
      "Saved to : 'pollution/mesures/stats/pm2,5_stats.csv'\n",
      "Saved to : 'pollution/mesures/stats/pm10_stats.csv'\n"
     ]
    }
   ],
   "source": [
    "print(\"Processing: \", end='')\n",
    "percent = 0\n",
    "for i in range(len(df_pollution)):\n",
    "    if (int(i*100 / len(polluants)) > percent):\n",
    "            percent = int(i*100 / len(polluants))\n",
    "            string = str(percent) + \"% - \"\n",
    "            print(string, end = '')\n",
    "    df_pollution[i] = add_stats(df_pollution[i], i)\n",
    "print(\"100%\\n\")\n",
    "    \n",
    "for i in range(len(polluants)):\n",
    "    if (polluants[i] == 'pm2,5'):\n",
    "        df_pollution[i] = add_seuil(df_pollution[i], 25)\n",
    "    elif (polluants[i] == 'pm10'):\n",
    "        df_pollution[i] = add_seuil(df_pollution[i], 50)\n",
    "\n",
    "save('stats')"
   ]
  },
  {
   "cell_type": "markdown",
   "metadata": {},
   "source": [
    "Moyenne glissante sur 7 jours"
   ]
  },
  {
   "cell_type": "code",
   "execution_count": 25,
   "metadata": {},
   "outputs": [],
   "source": [
    "def plot_moyenne_glissante(n):\n",
    "    plt.clf()\n",
    "    moy_gliss = 0.0\n",
    "    for i in range(len(df_pollution[n]['indicateur'])):\n",
    "        if i < 7:\n",
    "            moy_gliss = moy_gliss + float(df_pollution[n]['indicateur'][i]) / float(7)\n",
    "        else:\n",
    "            moy_gliss = moy_gliss + float(df_pollution[n]['indicateur'][i]) / float(7)\n",
    "            moy_gliss = moy_gliss - float(df_pollution[n]['indicateur'][i-7]) / float(7)\n",
    "            liste.append(moy_gliss)\n",
    "    titre = 'Moyenne glissante sur 7 jour pour ' + polluants[n] \n",
    "    plt.title(titre)\n",
    "    plt.xlabel('Jour')\n",
    "    plt.ylabel('Moyenne glissante')\n",
    "    plt.plot(numpy.arange(len(df_pollution[n].index) - 7), liste, color='red', linewidth=1)\n",
    "    plt.show()"
   ]
  },
  {
   "cell_type": "code",
   "execution_count": 26,
   "metadata": {},
   "outputs": [],
   "source": [
    "def plot_moyenne_glissante(n, jour_glissant):\n",
    "    plt.clf()\n",
    "    liste = []\n",
    "    moy_gliss = 0.0\n",
    "    for i in range(len(df_pollution[n]['indicateur'])):\n",
    "        if i < jour_glissant:\n",
    "            moy_gliss = moy_gliss + float(df_pollution[n]['indicateur'][i]) / float(jour_glissant)\n",
    "        else:\n",
    "            moy_gliss = moy_gliss + float(df_pollution[n]['indicateur'][i]) / float(jour_glissant)\n",
    "            moy_gliss = moy_gliss - float(df_pollution[n]['indicateur'][i-jour_glissant]) / float(jour_glissant)\n",
    "            liste.append(moy_gliss)\n",
    "    plt.clf()\n",
    "    # Note that even in the OO-style, we use `.pyplot.figure` to create the figure.\n",
    "    fig, ax = plt.subplots()  # Create a figure and an axes.\n",
    "    length = len(df_pollution[n]['indicateur'])\n",
    "    ax.plot(numpy.arange(len(df_pollution[n].index) - 7), liste, color='red', linewidth=1, label = 'moyenne glissante')\n",
    "    ax.set_xlabel('Jour')  # Add an x-label to the axes.\n",
    "    ax.set_ylabel('Moyenne glissante')  # Add a y-label to the axes.\n",
    "    titre = 'Moyenne glissante sur 7 jour pour \\'' + polluants[n] + '\\'' \n",
    "    ax.set_title(titre)  # Add a title to the axes.\n",
    "    ax.legend()  # Add a legend.\n",
    "    plt.show()"
   ]
  },
  {
   "cell_type": "code",
   "execution_count": 27,
   "metadata": {
    "scrolled": false
   },
   "outputs": [
    {
     "data": {
      "text/plain": [
       "<Figure size 432x288 with 0 Axes>"
      ]
     },
     "metadata": {},
     "output_type": "display_data"
    },
    {
     "data": {
      "image/png": "[encoded data removed]",
      "text/plain": [
       "<Figure size 432x288 with 1 Axes>"
      ]
     },
     "metadata": {
      "needs_background": "light"
     },
     "output_type": "display_data"
    },
    {
     "data": {
      "text/plain": [
       "<Figure size 432x288 with 0 Axes>"
      ]
     },
     "metadata": {},
     "output_type": "display_data"
    },
    {
     "data": {
      "image/png": "[encoded data removed]",
      "text/plain": [
       "<Figure size 432x288 with 1 Axes>"
      ]
     },
     "metadata": {
      "needs_background": "light"
     },
     "output_type": "display_data"
    },
    {
     "data": {
      "text/plain": [
       "<Figure size 432x288 with 0 Axes>"
      ]
     },
     "metadata": {},
     "output_type": "display_data"
    },
    {
     "data": {
      "image/png": "[encoded data removed]",
      "text/plain": [
       "<Figure size 432x288 with 1 Axes>"
      ]
     },
     "metadata": {
      "needs_background": "light"
     },
     "output_type": "display_data"
    },
    {
     "data": {
      "text/plain": [
       "<Figure size 432x288 with 0 Axes>"
      ]
     },
     "metadata": {},
     "output_type": "display_data"
    },
    {
     "data": {
      "image/png": "[encoded data removed]",
      "text/plain": [
       "<Figure size 432x288 with 1 Axes>"
      ]
     },
     "metadata": {
      "needs_background": "light"
     },
     "output_type": "display_data"
    },
    {
     "data": {
      "text/plain": [
       "<Figure size 432x288 with 0 Axes>"
      ]
     },
     "metadata": {},
     "output_type": "display_data"
    },
    {
     "data": {
      "image/png": "[encoded data removed]",
      "text/plain": [
       "<Figure size 432x288 with 1 Axes>"
      ]
     },
     "metadata": {
      "needs_background": "light"
     },
     "output_type": "display_data"
    }
   ],
   "source": [
    "for i in range(len(polluants)):\n",
    "    plot_moyenne_glissante(i,7)"
   ]
  },
  {
   "cell_type": "markdown",
   "metadata": {},
   "source": [
    "----------------------------------------"
   ]
  },
  {
   "cell_type": "markdown",
   "metadata": {},
   "source": [
    "### 2. Données de mortalité"
   ]
  },
  {
   "cell_type": "code",
   "execution_count": 28,
   "metadata": {},
   "outputs": [],
   "source": [
    "filepath = 'mortalite/journaliers_2018-2019/'\n",
    "\n",
    "annees_mortalite = [2018,2019]\n",
    "df_mortalite = []\n",
    "\n",
    "\n",
    "def read_file_mortalite(annee):\n",
    "    filename = filepath + 'init/' + str(annee) + '.csv'\n",
    "    temp_df = pd.read_csv(filename, sep=\";\")\n",
    "    data = []\n",
    "    nom_ligne = []\n",
    "    for i in range(len(temp_df)):\n",
    "        if (str(temp_df.iloc[i,9]) >= str(69000) and str(temp_df.iloc[i,9]) < str(70000)):\n",
    "            temp = []\n",
    "            nom_ligne.append(str(temp_df.iloc[i,0]) + '-' + str(temp_df.iloc[i,1]) + '-' + str(temp_df.iloc[i,2]))\n",
    "            temp.append(temp_df.iloc[i,3])\n",
    "            temp.append(temp_df.iloc[i,4])\n",
    "            temp.append(str(temp_df.iloc[i,5]) + '-' + str(temp_df.iloc[i,6]) + '-' + str(temp_df.iloc[i,7]))\n",
    "            temp.append(temp_df.iloc[i,8])\n",
    "            temp.append(temp_df.iloc[i,9])\n",
    "            temp.append(temp_df.iloc[i,10])\n",
    "            data.append(temp)\n",
    "    ar = numpy.array(data)\n",
    "    colnames = ['dep_deces', 'com_deces', 'date_naissance', 'sexe', 'com_deces', 'lieu_deces']\n",
    "    temp_df = pd.DataFrame(ar, index = nom_ligne, columns = colnames)\n",
    "    return temp_df\n",
    "\n",
    "def save_mortalite(step):\n",
    "    for i in range(len(annees_mortalite)):\n",
    "        filename  = str(filepath + step + '/' + str(annees_mortalite[i]) + '_' + step + '.csv')\n",
    "        df_mortalite[i].to_csv(filename, sep=\";\", header=True)\n",
    "        string = 'Saved to : \\'' + filename + '\\''\n",
    "        print(string)\n",
    "        \n",
    "def mortalite_quotidiennne(temp_df):\n",
    "    data = []\n",
    "    temp_index = temp_df.index.values[0]\n",
    "    new_index = []\n",
    "    new_index.append(temp_index)\n",
    "    n = 0\n",
    "    for i in range(len(temp_df.index.values)):\n",
    "        if (temp_df.index.values[i] == temp_index):\n",
    "            n = n + 1\n",
    "        else:\n",
    "            temp_index = temp_df.index.values[i]\n",
    "            new_index.append(temp_index)\n",
    "            data.append(n)\n",
    "            n = 0\n",
    "    data.append(n)\n",
    "    ar = numpy.array(data)\n",
    "    colnames = ['nb_deces']\n",
    "    temp_df = pd.DataFrame(ar, index = new_index, columns = colnames)\n",
    "    return temp_df"
   ]
  },
  {
   "cell_type": "code",
   "execution_count": 29,
   "metadata": {},
   "outputs": [
    {
     "name": "stdout",
     "output_type": "stream",
     "text": [
      "Saved to : 'mortalite/journaliers_2018-2019/cleaned/2018_cleaned.csv'\n",
      "Saved to : 'mortalite/journaliers_2018-2019/cleaned/2019_cleaned.csv'\n"
     ]
    }
   ],
   "source": [
    "for i in range(len(annees_mortalite)):\n",
    "    df_mortalite.append(read_file_mortalite(annees_mortalite[i]))\n",
    "    \n",
    "save_mortalite('cleaned')"
   ]
  },
  {
   "cell_type": "code",
   "execution_count": 30,
   "metadata": {},
   "outputs": [
    {
     "name": "stdout",
     "output_type": "stream",
     "text": [
      "Saved to : 'mortalite/journaliers_2018-2019/quotidienne/2018_quotidienne.csv'\n",
      "Saved to : 'mortalite/journaliers_2018-2019/quotidienne/2019_quotidienne.csv'\n"
     ]
    }
   ],
   "source": [
    "for i in range(len(annees_mortalite)):\n",
    "    df_mortalite[i] = mortalite_quotidiennne(df_mortalite[i])\n",
    "    \n",
    "save_mortalite('quotidienne')"
   ]
  }
 ],
 "metadata": {
  "kernelspec": {
   "display_name": "Python 3",
   "language": "python",
   "name": "python3"
  },
  "language_info": {
   "codemirror_mode": {
    "name": "ipython",
    "version": 3
   },
   "file_extension": ".py",
   "mimetype": "text/x-python",
   "name": "python",
   "nbconvert_exporter": "python",
   "pygments_lexer": "ipython3",
   "version": "3.6.9"
  }
 },
 "nbformat": 4,
 "nbformat_minor": 2
}
